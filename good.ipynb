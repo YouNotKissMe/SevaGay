{
 "cells": [
  {
   "cell_type": "markdown",
   "metadata": {},
   "source": [
    "# Импорт библиотек"
   ]
  },
  {
   "cell_type": "code",
   "execution_count": null,
   "metadata": {},
   "outputs": [],
   "source": [
    "import yaml\n",
    "import pandas as pd\n",
    "import numpy as np\n",
    "\n",
    "\n"
   ]
  },
  {
   "cell_type": "markdown",
   "metadata": {},
   "source": [
    "# Приведение данных к нормальной форме"
   ]
  },
  {
   "cell_type": "code",
   "execution_count": null,
   "metadata": {},
   "outputs": [],
   "source": [
    "\n",
    "# чтение файла с данными, сплит по пробелам и удаление лишних пробелов с индексами\n",
    "\n",
    "with open('report.txt') as file:\n",
    "    pred_pred_df = []\n",
    "    \n",
    "    for line in file:\n",
    "        \n",
    "        pred_pred_df.append([i.split() for i in line.rstrip().split(',') ])\n",
    "    for i in range(len(pred_pred_df)):\n",
    "        for m in range(len(pred_pred_df[i])):\n",
    "            if len(pred_pred_df[i][m])>1:\n",
    "                pred_pred_df[i][m] = pred_pred_df[i][m][1]\n",
    "            else:\n",
    "                pred_pred_df[i][m] = pred_pred_df[i][m][0]\n",
    "        \n",
    "       \n",
    "\n",
    " \n",
    "# открытие словаря в котором хранятся колонки и категории наших объектов\n",
    "with open('probs.yaml', 'rb') as file:\n",
    "        probs = yaml.load(file, yaml.Loader)\n",
    "dickk = {}\n",
    "for i in probs['classes']:\n",
    "    \n",
    "    dickk[list(i)[0]] = [q['name'] for q in i[list(i)[0]]]\n",
    "for i in dickk:\n",
    "    for n in range(len(dickk[i])):\n",
    "         \n",
    "        dickk[i][n]=dickk[i][n].replace('/','-')\n",
    "        if dickk[i][n]=='Пальмы триколор':\n",
    "             dickk[i][n]='Пальмы-триколор'\n",
    "\n",
    "# Создание качественного датасета для комфортного приведения его к pandas DataFrame \n",
    "pred_DF = []       \n",
    "\n",
    "for i in pred_pred_df:\n",
    "    arr = []\n",
    "    for n in dickk:\n",
    "        s = np.nan\n",
    "        for m in i:\n",
    "             if m in dickk[n]:\n",
    "                 s = m\n",
    "        arr.append(s)\n",
    "    pred_DF.append(arr)\n",
    "\n",
    "\n",
    "\n"
   ]
  },
  {
   "cell_type": "markdown",
   "metadata": {},
   "source": [
    "# Вывод статистики по использованию объектов разных классов при генерации изображений"
   ]
  },
  {
   "cell_type": "code",
   "execution_count": null,
   "metadata": {},
   "outputs": [],
   "source": [
    "columns = list(dickk)\n",
    "columns\n",
    "df = pd.DataFrame(pred_DF,columns=columns)\n",
    "for i in df.columns:\n",
    "    df[i] = pd.Categorical(df[i])\n",
    "    if df[i].unique().size>2:\n",
    "        print(df[i].value_counts(normalize=True))\n",
    "        print(\"----------------------------------\")"
   ]
  }
 ],
 "metadata": {
  "kernelspec": {
   "display_name": "Python 3.9.13 64-bit (windows store)",
   "language": "python",
   "name": "python3"
  },
  "language_info": {
   "codemirror_mode": {
    "name": "ipython",
    "version": 3
   },
   "file_extension": ".py",
   "mimetype": "text/x-python",
   "name": "python",
   "nbconvert_exporter": "python",
   "pygments_lexer": "ipython3",
   "version": "3.9.13"
  },
  "orig_nbformat": 4,
  "vscode": {
   "interpreter": {
    "hash": "1cea34d98b1dd69acd598934e8a3954aea0796be7aa4a0285642ac648acd07cc"
   }
  }
 },
 "nbformat": 4,
 "nbformat_minor": 2
}
