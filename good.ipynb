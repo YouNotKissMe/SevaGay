{
 "cells": [
  {
   "cell_type": "markdown",
   "metadata": {},
   "source": [
    "# Импорт библиотек"
   ]
  },
  {
   "cell_type": "code",
   "execution_count": 1,
   "metadata": {},
   "outputs": [],
   "source": [
    "import yaml\n",
    "import pandas as pd\n",
    "import numpy as np\n",
    "\n",
    "\n"
   ]
  },
  {
   "cell_type": "markdown",
   "metadata": {},
   "source": [
    "# Приведение данных к нормальной форме"
   ]
  },
  {
   "cell_type": "code",
   "execution_count": 2,
   "metadata": {},
   "outputs": [],
   "source": [
    "\n",
    "# чтение файла с данными, сплит по пробелам и удаление лишних пробелов с индексами\n",
    "\n",
    "with open('report.txt') as file:\n",
    "    pred_pred_df = []\n",
    "    \n",
    "    for line in file:\n",
    "        \n",
    "        pred_pred_df.append([i.split() for i in line.rstrip().split(',') ])\n",
    "    for i in range(len(pred_pred_df)):\n",
    "        for m in range(len(pred_pred_df[i])):\n",
    "            if len(pred_pred_df[i][m])>1:\n",
    "                pred_pred_df[i][m] = pred_pred_df[i][m][1]\n",
    "            else:\n",
    "                pred_pred_df[i][m] = pred_pred_df[i][m][0]\n",
    "        \n",
    "       \n",
    "\n",
    " \n",
    "# открытие словаря в котором хранятся колонки и категории наших объектов\n",
    "with open('probs.yaml', 'rb') as file:\n",
    "        probs = yaml.load(file, yaml.Loader)\n",
    "dickk = {}\n",
    "for i in probs['classes']:\n",
    "    \n",
    "    dickk[list(i)[0]] = [q['name'] for q in i[list(i)[0]]]\n",
    "for i in dickk:\n",
    "    for n in range(len(dickk[i])):\n",
    "         \n",
    "        dickk[i][n]=dickk[i][n].replace('/','-')\n",
    "        if dickk[i][n]=='Пальмы триколор':\n",
    "             dickk[i][n]='Пальмы-триколор'\n",
    "\n",
    "# Создание качественного датасета для комфортного приведения его к pandas DataFrame \n",
    "pred_DF = []       \n",
    "\n",
    "for i in pred_pred_df:\n",
    "    arr = []\n",
    "    for n in dickk:\n",
    "        s = np.nan\n",
    "        for m in i:\n",
    "             if m in dickk[n]:\n",
    "                 s = m\n",
    "        arr.append(s)\n",
    "    pred_DF.append(arr)\n",
    "\n",
    "\n",
    "\n"
   ]
  },
  {
   "cell_type": "markdown",
   "metadata": {},
   "source": [
    "# Вывод статистики по использованию объектов разных классов при генерации изображений"
   ]
  },
  {
   "cell_type": "code",
   "execution_count": 3,
   "metadata": {},
   "outputs": [
    {
     "name": "stdout",
     "output_type": "stream",
     "text": [
      "Задний-план         0.545595\n",
      "Задний-план-2       0.366306\n",
      "Задний-фон-Ягуар    0.057187\n",
      "Задний-фон-ТАЙГА    0.030912\n",
      "Name: задний-фон, dtype: float64\n",
      "----------------------------------\n",
      "Передний-план      0.436\n",
      "Передний-План-3    0.293\n",
      "Передний-план-2    0.174\n",
      "Передний-план-4    0.097\n",
      "Name: передний-план, dtype: float64\n",
      "----------------------------------\n",
      "Тату-Сердце      0.501672\n",
      "Тату-крокодил    0.274247\n",
      "Тату-змея        0.137124\n",
      "C4               0.086957\n",
      "Name: татуировки, dtype: float64\n",
      "----------------------------------\n",
      "Футболка-2           0.106092\n",
      "Футболка-5           0.098739\n",
      "Футболка-ABU         0.094538\n",
      "Худи-DUSKY           0.089286\n",
      "Майка                0.086134\n",
      "Футболка-Strike      0.078782\n",
      "Футболка-1           0.077731\n",
      "Худи                 0.070378\n",
      "Майка-ВДВ            0.069328\n",
      "Олимпийка-Hotline    0.047269\n",
      "Пиджак-BLACK         0.045168\n",
      "Олимпийка-Sunrise    0.044118\n",
      "Олимпийка            0.033613\n",
      "Патронтаж            0.029412\n",
      "Бронежилет           0.015756\n",
      "Рубашка-Маями        0.013655\n",
      "Name: тело-одежда, dtype: float64\n",
      "----------------------------------\n",
      "Цепи            0.75\n",
      "Золотая-цепь    0.25\n",
      "Name: аксессуары-тела, dtype: float64\n",
      "----------------------------------\n",
      "Кисть-для-предмета         0.521\n",
      "Жест-FCKU                  0.168\n",
      "Жест-SALAM                 0.131\n",
      "Жест-указательный-палец    0.097\n",
      "Жест-Джамбо                0.083\n",
      "Name: жесты, dtype: float64\n",
      "----------------------------------\n",
      "Стакан                     0.187\n",
      "Баллончик-краски           0.176\n",
      "Cигарета-рука              0.169\n",
      "БИТА                       0.124\n",
      "CHUPS                      0.095\n",
      "Часть-сигары-после-руки    0.091\n",
      "Кегля                      0.082\n",
      "УЗИ                        0.039\n",
      "Динамит                    0.037\n",
      "Name: предметы-в-руке, dtype: float64\n",
      "----------------------------------\n",
      "Панама          0.317957\n",
      "Восьмиклинка    0.169687\n",
      "Шапка           0.158155\n",
      "Кепка           0.151565\n",
      "Слой-33         0.123558\n",
      "Волосы          0.079077\n",
      "Name: аксессуары-голова, dtype: float64\n",
      "----------------------------------\n",
      "Бандана-CJ      0.175043\n",
      "Зубочистка      0.154246\n",
      "Сигарета        0.143847\n",
      "Бандана         0.121317\n",
      "Очки-1          0.119584\n",
      "Очки-Sunrise    0.110919\n",
      "Очки-3          0.065858\n",
      "Патрон          0.053726\n",
      "Очки-2          0.029463\n",
      "Очки-DEPO       0.025997\n",
      "Name: аксессуары-лицо, dtype: float64\n",
      "----------------------------------\n",
      "Тату-колючка    0.473373\n",
      "Часы-3          0.254438\n",
      "Часы-2          0.147929\n",
      "Часы-1          0.124260\n",
      "Name: аксессуары-запястья, dtype: float64\n",
      "----------------------------------\n"
     ]
    }
   ],
   "source": [
    "columns = list(dickk)\n",
    "columns\n",
    "df = pd.DataFrame(pred_DF,columns=columns)\n",
    "for i in df.columns:\n",
    "    df[i] = pd.Categorical(df[i])\n",
    "    if df[i].unique().size>2:\n",
    "        print(df[i].value_counts(normalize=True))\n",
    "        print(\"----------------------------------\")"
   ]
  },
  {
   "cell_type": "markdown",
   "metadata": {},
   "source": [
    "# Выводим дубликаты имеющиеся в df\n",
    "**Параметр который тебе поможет - keep, его варианты:**  \n",
    "\n",
    " -last (показывает изначальный столбец)  \n",
    " -False (показывает изначальный столбец и похожий на него)  \n",
    " -по умолчанию True, показывает столбцы похожие на i-1  \n",
    " -по определенным колонкам - subset  "
   ]
  },
  {
   "cell_type": "code",
   "execution_count": 6,
   "metadata": {},
   "outputs": [
    {
     "data": {
      "text/html": [
       "<div>\n",
       "<style scoped>\n",
       "    .dataframe tbody tr th:only-of-type {\n",
       "        vertical-align: middle;\n",
       "    }\n",
       "\n",
       "    .dataframe tbody tr th {\n",
       "        vertical-align: top;\n",
       "    }\n",
       "\n",
       "    .dataframe thead th {\n",
       "        text-align: right;\n",
       "    }\n",
       "</style>\n",
       "<table border=\"1\" class=\"dataframe\">\n",
       "  <thead>\n",
       "    <tr style=\"text-align: right;\">\n",
       "      <th></th>\n",
       "      <th>задний-фон</th>\n",
       "      <th>передний-план</th>\n",
       "      <th>тело</th>\n",
       "      <th>голова</th>\n",
       "      <th>глаза</th>\n",
       "      <th>губы</th>\n",
       "      <th>татуировки</th>\n",
       "      <th>тело-одежда</th>\n",
       "      <th>аксессуары-тела</th>\n",
       "      <th>жесты</th>\n",
       "      <th>предметы-в-руке</th>\n",
       "      <th>акссесуар-для-джамбо</th>\n",
       "      <th>акссесуар-для-FCKU</th>\n",
       "      <th>акссесуар-для-предмета</th>\n",
       "      <th>аксессуары-голова</th>\n",
       "      <th>аксессуары-лицо</th>\n",
       "      <th>аксессуары-запястья</th>\n",
       "    </tr>\n",
       "  </thead>\n",
       "  <tbody>\n",
       "  </tbody>\n",
       "</table>\n",
       "</div>"
      ],
      "text/plain": [
       "Empty DataFrame\n",
       "Columns: [задний-фон, передний-план, тело, голова, глаза, губы, татуировки, тело-одежда, аксессуары-тела, жесты, предметы-в-руке, акссесуар-для-джамбо, акссесуар-для-FCKU, акссесуар-для-предмета, аксессуары-голова, аксессуары-лицо, аксессуары-запястья]\n",
       "Index: []"
      ]
     },
     "execution_count": 6,
     "metadata": {},
     "output_type": "execute_result"
    }
   ],
   "source": [
    "dup = df.duplicated() # получаем булевый список\n",
    "df[dup] # применяем его, смотрим результат\n"
   ]
  }
 ],
 "metadata": {
  "kernelspec": {
   "display_name": "Python 3.9.13 64-bit (windows store)",
   "language": "python",
   "name": "python3"
  },
  "language_info": {
   "codemirror_mode": {
    "name": "ipython",
    "version": 3
   },
   "file_extension": ".py",
   "mimetype": "text/x-python",
   "name": "python",
   "nbconvert_exporter": "python",
   "pygments_lexer": "ipython3",
   "version": "3.9.13"
  },
  "orig_nbformat": 4,
  "vscode": {
   "interpreter": {
    "hash": "1cea34d98b1dd69acd598934e8a3954aea0796be7aa4a0285642ac648acd07cc"
   }
  }
 },
 "nbformat": 4,
 "nbformat_minor": 2
}
